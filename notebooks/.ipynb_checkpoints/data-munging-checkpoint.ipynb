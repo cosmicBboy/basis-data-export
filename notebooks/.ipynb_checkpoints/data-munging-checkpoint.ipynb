{
 "cells": [
  {
   "cell_type": "markdown",
   "metadata": {},
   "source": [
    "# Hip Hop FEET Study\n",
    "## Basis Health Tracker Data Preparation\n",
    "\n",
    "The purpose of this notebook is to prepare the data collected by the Basis Health Trackers in order to run an analysis on the biometrics collected on the participants of the study."
   ]
  },
  {
   "cell_type": "markdown",
   "metadata": {},
   "source": [
    "## Basis Health Tracker \"Activity\"\n",
    "\n",
    "Bases Health Tracker activities are defined a window of time in which the participant's physical activity is measured. There is a start time and end time associated with the activity, as well as a bunch of biometrics, such as average heart beats per minute, average number of steps taken, etc.\n",
    "\n",
    "We want to be able to look at the biometrics of each participant and the study group as a whole."
   ]
  },
  {
   "cell_type": "markdown",
   "metadata": {},
   "source": [
    "# Reading the Data\n",
    "\n",
    "The data are organized in sub-folders such that the each sub-folder contains readings from a particular device, and each file is a different data file. The [basis data export repo](https://github.com/cosmicBboy/basis-data-export) outputs three types of data files:\n",
    "\n",
    "- activities: windows of time that contains aggregate biometrics.\n",
    "- metrics: raw data that contains specific readings for an entire day's worth\n",
    "- sleep: sleep data (we did not collect this data)\n",
    "\n",
    "For the purposes of this notebook, we will only use the activities data."
   ]
  },
  {
   "cell_type": "code",
   "execution_count": 164,
   "metadata": {
    "collapsed": true
   },
   "outputs": [],
   "source": [
    "import pandas as pd\n",
    "import os\n",
    "from IPython.display import display\n",
    "from datetime import date\n",
    "import matplotlib.pyplot as plt\n",
    "plt.style.use('ggplot')\n",
    "%matplotlib inline"
   ]
  },
  {
   "cell_type": "code",
   "execution_count": 2,
   "metadata": {
    "collapsed": false
   },
   "outputs": [],
   "source": [
    "num_participants = 10\n",
    "data_dir = '../data'\n",
    "# for i in range(1, num_participants + 1):\n",
    "\n",
    "def read_device_data(device_num, data_format):\n",
    "    '''Reads activity or metrics data for a particular device\n",
    "    \n",
    "    Valid data_formats are 'activites' and 'metrics'.\n",
    "    '''\n",
    "    if data_format not in ['activities', 'metrics']:\n",
    "        raise ValueError('{} is not a recognized data format. '\n",
    "                         'Choose \"activities\" or \"metrics\"'.format(data_format))\n",
    "    device_fp = 'hhph.breaker{}@gmail.com'.format(device_num)\n",
    "    device_dir = os.path.join(data_dir, device_fp)\n",
    "    device_data = [pd.read_csv(os.path.join(device_dir, f))\n",
    "                  for f in os.listdir(device_dir)\n",
    "                  if data_format in f]\n",
    "    device_data = pd.concat([df for df in device_data if not df.empty])\n",
    "    device_data['device_number'] = device_num\n",
    "    return device_data\n",
    "\n",
    "def read_all_device_data(num_participants, data_format):\n",
    "    dfs = [read_device_data(i + 1, data_format) for i in range(num_participants)]\n",
    "    return pd.concat(dfs).reset_index(drop=True)"
   ]
  },
  {
   "cell_type": "code",
   "execution_count": 67,
   "metadata": {
    "collapsed": false
   },
   "outputs": [
    {
     "data": {
      "text/html": [
       "<div>\n",
       "<table border=\"1\" class=\"dataframe\">\n",
       "  <thead>\n",
       "    <tr style=\"text-align: right;\">\n",
       "      <th></th>\n",
       "      <th>date</th>\n",
       "      <th>time</th>\n",
       "      <th>timestamp</th>\n",
       "      <th>heartrate</th>\n",
       "      <th>steps</th>\n",
       "      <th>calories</th>\n",
       "      <th>gsr</th>\n",
       "      <th>skintemp</th>\n",
       "      <th>airtemp</th>\n",
       "      <th>device_number</th>\n",
       "    </tr>\n",
       "  </thead>\n",
       "  <tbody>\n",
       "    <tr>\n",
       "      <th>0</th>\n",
       "      <td>2015-01-23</td>\n",
       "      <td>16:23:00</td>\n",
       "      <td>2015-01-23 16:23:00</td>\n",
       "      <td>NaN</td>\n",
       "      <td>0.0</td>\n",
       "      <td>0.8</td>\n",
       "      <td>0.000463</td>\n",
       "      <td>74.5250</td>\n",
       "      <td>72.5000</td>\n",
       "      <td>10</td>\n",
       "    </tr>\n",
       "    <tr>\n",
       "      <th>1</th>\n",
       "      <td>2015-01-23</td>\n",
       "      <td>16:24:00</td>\n",
       "      <td>2015-01-23 16:24:00</td>\n",
       "      <td>NaN</td>\n",
       "      <td>81.0</td>\n",
       "      <td>3.0</td>\n",
       "      <td>0.584000</td>\n",
       "      <td>78.3125</td>\n",
       "      <td>72.6650</td>\n",
       "      <td>10</td>\n",
       "    </tr>\n",
       "    <tr>\n",
       "      <th>2</th>\n",
       "      <td>2015-01-23</td>\n",
       "      <td>16:25:00</td>\n",
       "      <td>2015-01-23 16:25:00</td>\n",
       "      <td>NaN</td>\n",
       "      <td>58.0</td>\n",
       "      <td>3.3</td>\n",
       "      <td>6.460000</td>\n",
       "      <td>80.4500</td>\n",
       "      <td>73.5650</td>\n",
       "      <td>10</td>\n",
       "    </tr>\n",
       "    <tr>\n",
       "      <th>3</th>\n",
       "      <td>2015-01-23</td>\n",
       "      <td>16:26:00</td>\n",
       "      <td>2015-01-23 16:26:00</td>\n",
       "      <td>NaN</td>\n",
       "      <td>6.0</td>\n",
       "      <td>1.6</td>\n",
       "      <td>16.200000</td>\n",
       "      <td>81.6500</td>\n",
       "      <td>74.5475</td>\n",
       "      <td>10</td>\n",
       "    </tr>\n",
       "    <tr>\n",
       "      <th>4</th>\n",
       "      <td>2015-01-23</td>\n",
       "      <td>16:27:00</td>\n",
       "      <td>2015-01-23 16:27:00</td>\n",
       "      <td>NaN</td>\n",
       "      <td>11.0</td>\n",
       "      <td>1.9</td>\n",
       "      <td>21.600000</td>\n",
       "      <td>82.4750</td>\n",
       "      <td>75.7325</td>\n",
       "      <td>10</td>\n",
       "    </tr>\n",
       "  </tbody>\n",
       "</table>\n",
       "</div>"
      ],
      "text/plain": [
       "         date      time           timestamp  heartrate  steps  calories  \\\n",
       "0  2015-01-23  16:23:00 2015-01-23 16:23:00        NaN    0.0       0.8   \n",
       "1  2015-01-23  16:24:00 2015-01-23 16:24:00        NaN   81.0       3.0   \n",
       "2  2015-01-23  16:25:00 2015-01-23 16:25:00        NaN   58.0       3.3   \n",
       "3  2015-01-23  16:26:00 2015-01-23 16:26:00        NaN    6.0       1.6   \n",
       "4  2015-01-23  16:27:00 2015-01-23 16:27:00        NaN   11.0       1.9   \n",
       "\n",
       "         gsr  skintemp  airtemp  device_number  \n",
       "0   0.000463   74.5250  72.5000             10  \n",
       "1   0.584000   78.3125  72.6650             10  \n",
       "2   6.460000   80.4500  73.5650             10  \n",
       "3  16.200000   81.6500  74.5475             10  \n",
       "4  21.600000   82.4750  75.7325             10  "
      ]
     },
     "execution_count": 67,
     "metadata": {},
     "output_type": "execute_result"
    }
   ],
   "source": [
    "def clean_metrics_data(metrics_df):\n",
    "    '''Filters out invalid metrics rows\n",
    "    \n",
    "    Here we define invalid metrics rows as those rows that\n",
    "    have null values in the 'gsr', 'skintemp', and 'airtemp'\n",
    "    columns.\n",
    "    \n",
    "    This is becuase is seems like there are residual readings\n",
    "    in the 'steps' and 'calories' columns, even if we know\n",
    "    for a fact that a dance sessian was not happening.\n",
    "    '''\n",
    "    check_cols = ['gsr', 'skintemp', 'airtemp']\n",
    "    idx1 = metrics_df[metrics_df[check_cols].notnull().all(axis=1)].index.tolist()\n",
    "    idx2 = metrics_df[(metrics_df['steps'] > 0) | \n",
    "                      (metrics_df['calories'] > 1.0)].index.tolist()\n",
    "    idx = list(set(idx1 + idx2))\n",
    "    metrics_df = metrics_df.iloc[idx]\n",
    "    return metrics_df.reset_index(drop=True)\n",
    "\n",
    "def add_time_data(df, ts_col):\n",
    "    '''Adds date and time column\n",
    "    '''\n",
    "    ts = pd.to_datetime(df[ts_col])\n",
    "    df.loc[:, 'timestamp'] = ts\n",
    "    df.insert(0, 'date', ts.apply(lambda x: x.date()))\n",
    "    df.insert(1, 'time', ts.apply(lambda x: x.time()))\n",
    "    return df\n",
    "\n",
    "metrics_df = clean_metrics_data(read_all_device_data(10, 'metrics'))\n",
    "metrics_df = add_time_data(metrics_df, 'timestamp')\n",
    "metrics_df.head()"
   ]
  },
  {
   "cell_type": "code",
   "execution_count": 68,
   "metadata": {
    "collapsed": false
   },
   "outputs": [
    {
     "data": {
      "text/html": [
       "<div>\n",
       "<table border=\"1\" class=\"dataframe\">\n",
       "  <thead>\n",
       "    <tr style=\"text-align: right;\">\n",
       "      <th></th>\n",
       "      <th>date</th>\n",
       "      <th>time</th>\n",
       "      <th>start time</th>\n",
       "      <th>start time ISO</th>\n",
       "      <th>start time timezone</th>\n",
       "      <th>start time offset</th>\n",
       "      <th>end time</th>\n",
       "      <th>end time ISO</th>\n",
       "      <th>end time timezone</th>\n",
       "      <th>end time offset</th>\n",
       "      <th>...</th>\n",
       "      <th>calories</th>\n",
       "      <th>minutes</th>\n",
       "      <th>heart rate avg</th>\n",
       "      <th>heart rate min</th>\n",
       "      <th>heart rate max</th>\n",
       "      <th>state</th>\n",
       "      <th>version</th>\n",
       "      <th>id</th>\n",
       "      <th>device_number</th>\n",
       "      <th>timestamp</th>\n",
       "    </tr>\n",
       "  </thead>\n",
       "  <tbody>\n",
       "    <tr>\n",
       "      <th>0</th>\n",
       "      <td>2014-11-14</td>\n",
       "      <td>16:20:09</td>\n",
       "      <td>2014-11-14 16:20:09</td>\n",
       "      <td>2014-11-14T21:20:09Z</td>\n",
       "      <td>America/Los_Angeles</td>\n",
       "      <td>-480</td>\n",
       "      <td>2014-11-14 16:26:42</td>\n",
       "      <td>2014-11-14T21:26:42Z</td>\n",
       "      <td>America/Los_Angeles</td>\n",
       "      <td>-480</td>\n",
       "      <td>...</td>\n",
       "      <td>18.700001</td>\n",
       "      <td>6.550000</td>\n",
       "      <td>NaN</td>\n",
       "      <td>NaN</td>\n",
       "      <td>NaN</td>\n",
       "      <td>complete</td>\n",
       "      <td>1</td>\n",
       "      <td>walk__2014-11-14T212009</td>\n",
       "      <td>1</td>\n",
       "      <td>2014-11-14 16:20:09</td>\n",
       "    </tr>\n",
       "    <tr>\n",
       "      <th>1</th>\n",
       "      <td>2015-01-23</td>\n",
       "      <td>16:54:58</td>\n",
       "      <td>2015-01-23 16:54:58</td>\n",
       "      <td>2015-01-23T21:54:58Z</td>\n",
       "      <td>America/New_York</td>\n",
       "      <td>-300</td>\n",
       "      <td>2015-01-23 16:59:52</td>\n",
       "      <td>2015-01-23T21:59:52Z</td>\n",
       "      <td>America/New_York</td>\n",
       "      <td>-300</td>\n",
       "      <td>...</td>\n",
       "      <td>20.000000</td>\n",
       "      <td>4.900000</td>\n",
       "      <td>NaN</td>\n",
       "      <td>NaN</td>\n",
       "      <td>NaN</td>\n",
       "      <td>complete</td>\n",
       "      <td>1</td>\n",
       "      <td>walk__2015-01-23T215458</td>\n",
       "      <td>1</td>\n",
       "      <td>2015-01-23 16:54:58</td>\n",
       "    </tr>\n",
       "    <tr>\n",
       "      <th>2</th>\n",
       "      <td>2015-02-06</td>\n",
       "      <td>16:54:37</td>\n",
       "      <td>2015-02-06 16:54:37</td>\n",
       "      <td>2015-02-06T21:54:37Z</td>\n",
       "      <td>America/New_York</td>\n",
       "      <td>-300</td>\n",
       "      <td>2015-02-06 16:54:57</td>\n",
       "      <td>2015-02-06T21:54:57Z</td>\n",
       "      <td>America/New_York</td>\n",
       "      <td>-300</td>\n",
       "      <td>...</td>\n",
       "      <td>5.700000</td>\n",
       "      <td>0.333333</td>\n",
       "      <td>NaN</td>\n",
       "      <td>NaN</td>\n",
       "      <td>NaN</td>\n",
       "      <td>complete</td>\n",
       "      <td>1</td>\n",
       "      <td>run__2015-02-06T215437</td>\n",
       "      <td>1</td>\n",
       "      <td>2015-02-06 16:54:37</td>\n",
       "    </tr>\n",
       "    <tr>\n",
       "      <th>3</th>\n",
       "      <td>2015-02-06</td>\n",
       "      <td>16:54:57</td>\n",
       "      <td>2015-02-06 16:54:57</td>\n",
       "      <td>2015-02-06T21:54:57Z</td>\n",
       "      <td>America/New_York</td>\n",
       "      <td>-300</td>\n",
       "      <td>2015-02-06 16:59:00</td>\n",
       "      <td>2015-02-06T21:59:00Z</td>\n",
       "      <td>America/New_York</td>\n",
       "      <td>-300</td>\n",
       "      <td>...</td>\n",
       "      <td>20.299999</td>\n",
       "      <td>4.050000</td>\n",
       "      <td>NaN</td>\n",
       "      <td>NaN</td>\n",
       "      <td>NaN</td>\n",
       "      <td>complete</td>\n",
       "      <td>1</td>\n",
       "      <td>walk__2015-02-06T215457</td>\n",
       "      <td>1</td>\n",
       "      <td>2015-02-06 16:54:57</td>\n",
       "    </tr>\n",
       "    <tr>\n",
       "      <th>4</th>\n",
       "      <td>2015-02-13</td>\n",
       "      <td>16:54:49</td>\n",
       "      <td>2015-02-13 16:54:49</td>\n",
       "      <td>2015-02-13T21:54:49Z</td>\n",
       "      <td>America/Los_Angeles</td>\n",
       "      <td>-480</td>\n",
       "      <td>2015-02-13 16:59:37</td>\n",
       "      <td>2015-02-13T21:59:37Z</td>\n",
       "      <td>America/Los_Angeles</td>\n",
       "      <td>-480</td>\n",
       "      <td>...</td>\n",
       "      <td>24.100000</td>\n",
       "      <td>4.800000</td>\n",
       "      <td>NaN</td>\n",
       "      <td>NaN</td>\n",
       "      <td>NaN</td>\n",
       "      <td>complete</td>\n",
       "      <td>1</td>\n",
       "      <td>walk__2015-02-13T215449</td>\n",
       "      <td>2</td>\n",
       "      <td>2015-02-13 16:54:49</td>\n",
       "    </tr>\n",
       "  </tbody>\n",
       "</table>\n",
       "<p>5 rows × 23 columns</p>\n",
       "</div>"
      ],
      "text/plain": [
       "         date      time           start time        start time ISO  \\\n",
       "0  2014-11-14  16:20:09  2014-11-14 16:20:09  2014-11-14T21:20:09Z   \n",
       "1  2015-01-23  16:54:58  2015-01-23 16:54:58  2015-01-23T21:54:58Z   \n",
       "2  2015-02-06  16:54:37  2015-02-06 16:54:37  2015-02-06T21:54:37Z   \n",
       "3  2015-02-06  16:54:57  2015-02-06 16:54:57  2015-02-06T21:54:57Z   \n",
       "4  2015-02-13  16:54:49  2015-02-13 16:54:49  2015-02-13T21:54:49Z   \n",
       "\n",
       "   start time timezone  start time offset             end time  \\\n",
       "0  America/Los_Angeles               -480  2014-11-14 16:26:42   \n",
       "1     America/New_York               -300  2015-01-23 16:59:52   \n",
       "2     America/New_York               -300  2015-02-06 16:54:57   \n",
       "3     America/New_York               -300  2015-02-06 16:59:00   \n",
       "4  America/Los_Angeles               -480  2015-02-13 16:59:37   \n",
       "\n",
       "           end time ISO    end time timezone  end time offset  \\\n",
       "0  2014-11-14T21:26:42Z  America/Los_Angeles             -480   \n",
       "1  2015-01-23T21:59:52Z     America/New_York             -300   \n",
       "2  2015-02-06T21:54:57Z     America/New_York             -300   \n",
       "3  2015-02-06T21:59:00Z     America/New_York             -300   \n",
       "4  2015-02-13T21:59:37Z  America/Los_Angeles             -480   \n",
       "\n",
       "          ...           calories   minutes  heart rate avg  heart rate min  \\\n",
       "0         ...          18.700001  6.550000             NaN             NaN   \n",
       "1         ...          20.000000  4.900000             NaN             NaN   \n",
       "2         ...           5.700000  0.333333             NaN             NaN   \n",
       "3         ...          20.299999  4.050000             NaN             NaN   \n",
       "4         ...          24.100000  4.800000             NaN             NaN   \n",
       "\n",
       "   heart rate max     state  version                       id device_number  \\\n",
       "0             NaN  complete        1  walk__2014-11-14T212009             1   \n",
       "1             NaN  complete        1  walk__2015-01-23T215458             1   \n",
       "2             NaN  complete        1   run__2015-02-06T215437             1   \n",
       "3             NaN  complete        1  walk__2015-02-06T215457             1   \n",
       "4             NaN  complete        1  walk__2015-02-13T215449             2   \n",
       "\n",
       "            timestamp  \n",
       "0 2014-11-14 16:20:09  \n",
       "1 2015-01-23 16:54:58  \n",
       "2 2015-02-06 16:54:37  \n",
       "3 2015-02-06 16:54:57  \n",
       "4 2015-02-13 16:54:49  \n",
       "\n",
       "[5 rows x 23 columns]"
      ]
     },
     "execution_count": 68,
     "metadata": {},
     "output_type": "execute_result"
    }
   ],
   "source": [
    "activity_df = read_all_device_data(10, 'activities')\n",
    "activity_df = add_time_data(activity_df, 'start time')\n",
    "activity_df.head()"
   ]
  },
  {
   "cell_type": "markdown",
   "metadata": {},
   "source": [
    "## Is the `activities` and `metrics` data consistent with each other?\n",
    "\n",
    "We want to check whether the aggregate metrics in the `activities` data matches the readings in the `metrics` data? For example, can we find a case where there are no aggregate readings in the `activities` dataset but there are in fact some readings in the `metrics` data?"
   ]
  },
  {
   "cell_type": "code",
   "execution_count": 69,
   "metadata": {
    "collapsed": false
   },
   "outputs": [
    {
     "name": "stdout",
     "output_type": "stream",
     "text": [
      "Mean heartrate for device 1 in 2015-02-27: 121.09\n"
     ]
    }
   ],
   "source": [
    "# look at data fro 2014-11-14, device 1\n",
    "d = date(2015, 2, 27)\n",
    "device_num = 1\n",
    "d1 = metrics_df[(metrics_df['date'] == d) & \n",
    "                (metrics_df['device_number'] == device_num)]\n",
    "print \"Mean heartrate for device {} in {}: {:0.2f}\".format(device_num, d, d1['heartrate'].mean())"
   ]
  },
  {
   "cell_type": "code",
   "execution_count": 70,
   "metadata": {
    "collapsed": false,
    "scrolled": true
   },
   "outputs": [
    {
     "data": {
      "text/html": [
       "<div>\n",
       "<table border=\"1\" class=\"dataframe\">\n",
       "  <thead>\n",
       "    <tr style=\"text-align: right;\">\n",
       "      <th></th>\n",
       "      <th>date</th>\n",
       "      <th>time</th>\n",
       "      <th>start time</th>\n",
       "      <th>start time ISO</th>\n",
       "      <th>start time timezone</th>\n",
       "      <th>start time offset</th>\n",
       "      <th>end time</th>\n",
       "      <th>end time ISO</th>\n",
       "      <th>end time timezone</th>\n",
       "      <th>end time offset</th>\n",
       "      <th>...</th>\n",
       "      <th>calories</th>\n",
       "      <th>minutes</th>\n",
       "      <th>heart rate avg</th>\n",
       "      <th>heart rate min</th>\n",
       "      <th>heart rate max</th>\n",
       "      <th>state</th>\n",
       "      <th>version</th>\n",
       "      <th>id</th>\n",
       "      <th>device_number</th>\n",
       "      <th>timestamp</th>\n",
       "    </tr>\n",
       "  </thead>\n",
       "  <tbody>\n",
       "  </tbody>\n",
       "</table>\n",
       "<p>0 rows × 23 columns</p>\n",
       "</div>"
      ],
      "text/plain": [
       "Empty DataFrame\n",
       "Columns: [date, time, start time, start time ISO, start time timezone, start time offset, end time, end time ISO, end time timezone, end time offset, type, actual seconds, steps, calories, minutes, heart rate avg, heart rate min, heart rate max, state, version, id, device_number, timestamp]\n",
       "Index: []\n",
       "\n",
       "[0 rows x 23 columns]"
      ]
     },
     "execution_count": 70,
     "metadata": {},
     "output_type": "execute_result"
    }
   ],
   "source": [
    "activity_df[(activity_df['date'] == d) &\n",
    "            (activity_df['device_number'] == device_num)]"
   ]
  },
  {
   "cell_type": "markdown",
   "metadata": {},
   "source": [
    "## Findings\n",
    "\n",
    "There seems to be a discrepency in the activity data and the metrics data. For example, in device `1` in `2-27-2015`, it looks like the device captured some metrics data, but the activity dataset did not record any aggregate metrics. This means we'll have to recompute these aggregates using the raw metrics."
   ]
  },
  {
   "cell_type": "markdown",
   "metadata": {},
   "source": [
    "# Plotting the Raw Data\n",
    "\n",
    "Before going further in our analysis, we want to visualize the raw data that we can get a better sence of how valid they are. We are going to try to recreate the charts that are given to Basis Health App users on their [web application](https://app.mybasis.com)."
   ]
  },
  {
   "cell_type": "code",
   "execution_count": 137,
   "metadata": {
    "collapsed": false,
    "scrolled": false
   },
   "outputs": [
    {
     "data": {
      "image/png": "[encoded data removed]",
      "text/plain": [
       "<matplotlib.figure.Figure at 0x10e86b350>"
      ]
     },
     "metadata": {},
     "output_type": "display_data"
    }
   ],
   "source": [
    "# Plotting steps and calories for one day and one device\n",
    "d = date(2015, 2, 27)\n",
    "device_num = 1\n",
    "plot_df = metrics_df[(metrics_df['date'] == d) &\n",
    "                     (metrics_df['device_number'] == device_num)]\n",
    "n = 2\n",
    "plot_cols_1 = ['steps', 'calories', 'heartrate', 'gsr', 'skintemp', 'airtemp']\n",
    "ax1 = plot_df.plot(kind='bar', x='time', y=plot_cols_1, \n",
    "                   figsize=(15,15), subplots=True, sharex=True,\n",
    "                   legend=False, title=\"Date: {}\".format(d))"
   ]
  },
  {
   "cell_type": "markdown",
   "metadata": {},
   "source": [
    "The plots above replicate the results in the Basis web application. Let's compute the aggregat measures for this one activity to double check."
   ]
  },
  {
   "cell_type": "code",
   "execution_count": 182,
   "metadata": {
    "collapsed": false
   },
   "outputs": [
    {
     "data": {
      "text/html": [
       "<div>\n",
       "<table border=\"1\" class=\"dataframe\">\n",
       "  <thead>\n",
       "    <tr style=\"text-align: right;\">\n",
       "      <th></th>\n",
       "      <th>mean</th>\n",
       "      <th>sum</th>\n",
       "    </tr>\n",
       "  </thead>\n",
       "  <tbody>\n",
       "    <tr>\n",
       "      <th>heartrate</th>\n",
       "      <td>121.090909</td>\n",
       "      <td>1332.00000</td>\n",
       "    </tr>\n",
       "    <tr>\n",
       "      <th>steps</th>\n",
       "      <td>31.842105</td>\n",
       "      <td>1815.00000</td>\n",
       "    </tr>\n",
       "    <tr>\n",
       "      <th>calories</th>\n",
       "      <td>3.059649</td>\n",
       "      <td>174.40000</td>\n",
       "    </tr>\n",
       "    <tr>\n",
       "      <th>gsr</th>\n",
       "      <td>10.619756</td>\n",
       "      <td>594.70631</td>\n",
       "    </tr>\n",
       "    <tr>\n",
       "      <th>skintemp</th>\n",
       "      <td>83.801387</td>\n",
       "      <td>4692.87768</td>\n",
       "    </tr>\n",
       "    <tr>\n",
       "      <th>airtemp</th>\n",
       "      <td>77.655446</td>\n",
       "      <td>4348.70500</td>\n",
       "    </tr>\n",
       "    <tr>\n",
       "      <th>device_number</th>\n",
       "      <td>1.000000</td>\n",
       "      <td>57.00000</td>\n",
       "    </tr>\n",
       "  </tbody>\n",
       "</table>\n",
       "</div>"
      ],
      "text/plain": [
       "                     mean         sum\n",
       "heartrate      121.090909  1332.00000\n",
       "steps           31.842105  1815.00000\n",
       "calories         3.059649   174.40000\n",
       "gsr             10.619756   594.70631\n",
       "skintemp        83.801387  4692.87768\n",
       "airtemp         77.655446  4348.70500\n",
       "device_number    1.000000    57.00000"
      ]
     },
     "metadata": {},
     "output_type": "display_data"
    }
   ],
   "source": [
    "agg_metrics = pd.concat([plot_df.mean().to_frame('mean'),\n",
    "                         plot_df.sum().to_frame('sum')], axis=1)\n",
    "display(agg_metrics)"
   ]
  },
  {
   "cell_type": "markdown",
   "metadata": {},
   "source": [
    "It looks like the mean and total values for each metric are reasonably close to the measures shown below. The mean value for steps taken that we've calculated above is slightly higher than that shown in the web application, but it's no bigger than an order of magnitude, which is acceptable."
   ]
  },
  {
   "cell_type": "markdown",
   "metadata": {},
   "source": [
    "<img src=\"basis_device1_2015-02-27.png\">"
   ]
  },
  {
   "cell_type": "markdown",
   "metadata": {},
   "source": [
    "# Recomputing aggregate metrics\n",
    "\n",
    "We want to group by date and compute the mean values for the following metrics:\n",
    "\n",
    "`heartrate`, `steps`, `calories`, `gsr` (galvanic skin response), `skintemp`, `airtemp`."
   ]
  },
  {
   "cell_type": "code",
   "execution_count": 287,
   "metadata": {
    "collapsed": false
   },
   "outputs": [
    {
     "data": {
      "text/html": [
       "<div>\n",
       "<table border=\"1\" class=\"dataframe\">\n",
       "  <thead>\n",
       "    <tr style=\"text-align: right;\">\n",
       "      <th></th>\n",
       "      <th>device_number</th>\n",
       "      <th>date</th>\n",
       "      <th>total_minutes</th>\n",
       "      <th>steps_mean</th>\n",
       "      <th>steps_sum</th>\n",
       "      <th>calories_mean</th>\n",
       "      <th>calories_sum</th>\n",
       "      <th>heartrate_mean</th>\n",
       "      <th>heartrate_sum</th>\n",
       "      <th>gsr_mean</th>\n",
       "      <th>gsr_sum</th>\n",
       "      <th>skintemp_mean</th>\n",
       "      <th>skintemp_sum</th>\n",
       "      <th>airtemp_mean</th>\n",
       "      <th>airtemp_sum</th>\n",
       "    </tr>\n",
       "  </thead>\n",
       "  <tbody>\n",
       "    <tr>\n",
       "      <th>0</th>\n",
       "      <td>1</td>\n",
       "      <td>2014-11-14</td>\n",
       "      <td>51.0</td>\n",
       "      <td>23.340909</td>\n",
       "      <td>1027.0</td>\n",
       "      <td>3.325000</td>\n",
       "      <td>146.3</td>\n",
       "      <td>128.571429</td>\n",
       "      <td>900.0</td>\n",
       "      <td>13.046090</td>\n",
       "      <td>574.027956</td>\n",
       "      <td>83.417516</td>\n",
       "      <td>3670.37071</td>\n",
       "      <td>77.345170</td>\n",
       "      <td>3403.1875</td>\n",
       "    </tr>\n",
       "    <tr>\n",
       "      <th>1</th>\n",
       "      <td>1</td>\n",
       "      <td>2015-01-16</td>\n",
       "      <td>37.0</td>\n",
       "      <td>26.789474</td>\n",
       "      <td>1018.0</td>\n",
       "      <td>1.897368</td>\n",
       "      <td>72.1</td>\n",
       "      <td>101.666667</td>\n",
       "      <td>610.0</td>\n",
       "      <td>4.785752</td>\n",
       "      <td>181.858559</td>\n",
       "      <td>82.214518</td>\n",
       "      <td>3124.15170</td>\n",
       "      <td>76.961908</td>\n",
       "      <td>2924.5525</td>\n",
       "    </tr>\n",
       "    <tr>\n",
       "      <th>2</th>\n",
       "      <td>1</td>\n",
       "      <td>2015-01-23</td>\n",
       "      <td>37.0</td>\n",
       "      <td>28.315789</td>\n",
       "      <td>1076.0</td>\n",
       "      <td>2.052632</td>\n",
       "      <td>78.0</td>\n",
       "      <td>98.400000</td>\n",
       "      <td>492.0</td>\n",
       "      <td>1.161317</td>\n",
       "      <td>44.130050</td>\n",
       "      <td>83.552632</td>\n",
       "      <td>3175.00000</td>\n",
       "      <td>78.959671</td>\n",
       "      <td>3000.4675</td>\n",
       "    </tr>\n",
       "    <tr>\n",
       "      <th>3</th>\n",
       "      <td>1</td>\n",
       "      <td>2015-02-06</td>\n",
       "      <td>41.0</td>\n",
       "      <td>32.095238</td>\n",
       "      <td>1348.0</td>\n",
       "      <td>2.000000</td>\n",
       "      <td>84.0</td>\n",
       "      <td>98.166667</td>\n",
       "      <td>589.0</td>\n",
       "      <td>10.802224</td>\n",
       "      <td>442.891191</td>\n",
       "      <td>84.606098</td>\n",
       "      <td>3468.85000</td>\n",
       "      <td>78.857622</td>\n",
       "      <td>3233.1625</td>\n",
       "    </tr>\n",
       "    <tr>\n",
       "      <th>4</th>\n",
       "      <td>1</td>\n",
       "      <td>2015-02-13</td>\n",
       "      <td>40.0</td>\n",
       "      <td>17.542857</td>\n",
       "      <td>614.0</td>\n",
       "      <td>1.591429</td>\n",
       "      <td>55.7</td>\n",
       "      <td>79.000000</td>\n",
       "      <td>237.0</td>\n",
       "      <td>1.178148</td>\n",
       "      <td>38.878890</td>\n",
       "      <td>81.027375</td>\n",
       "      <td>2673.90339</td>\n",
       "      <td>76.262045</td>\n",
       "      <td>2516.6475</td>\n",
       "    </tr>\n",
       "  </tbody>\n",
       "</table>\n",
       "</div>"
      ],
      "text/plain": [
       "   device_number        date  total_minutes  steps_mean  steps_sum  \\\n",
       "0              1  2014-11-14           51.0   23.340909     1027.0   \n",
       "1              1  2015-01-16           37.0   26.789474     1018.0   \n",
       "2              1  2015-01-23           37.0   28.315789     1076.0   \n",
       "3              1  2015-02-06           41.0   32.095238     1348.0   \n",
       "4              1  2015-02-13           40.0   17.542857      614.0   \n",
       "\n",
       "   calories_mean  calories_sum  heartrate_mean  heartrate_sum   gsr_mean  \\\n",
       "0       3.325000         146.3      128.571429          900.0  13.046090   \n",
       "1       1.897368          72.1      101.666667          610.0   4.785752   \n",
       "2       2.052632          78.0       98.400000          492.0   1.161317   \n",
       "3       2.000000          84.0       98.166667          589.0  10.802224   \n",
       "4       1.591429          55.7       79.000000          237.0   1.178148   \n",
       "\n",
       "      gsr_sum  skintemp_mean  skintemp_sum  airtemp_mean  airtemp_sum  \n",
       "0  574.027956      83.417516    3670.37071     77.345170    3403.1875  \n",
       "1  181.858559      82.214518    3124.15170     76.961908    2924.5525  \n",
       "2   44.130050      83.552632    3175.00000     78.959671    3000.4675  \n",
       "3  442.891191      84.606098    3468.85000     78.857622    3233.1625  \n",
       "4   38.878890      81.027375    2673.90339     76.262045    2516.6475  "
      ]
     },
     "execution_count": 287,
     "metadata": {},
     "output_type": "execute_result"
    }
   ],
   "source": [
    "date_device_groups = metrics_df.groupby(['device_number', 'date'])\n",
    "agg_cols = ['steps', 'calories', 'heartrate', 'gsr', 'skintemp', 'airtemp']\n",
    "agg_metrics = date_device_groups[agg_cols].agg([np.mean, sum]).reset_index()\n",
    "agg_metrics.columns = ['_'.join(col).strip().strip('_')\n",
    "                       for col in agg_metrics.columns.values]\n",
    "\n",
    "# compute aggregate time per session per device\n",
    "agg_time = date_device_groups['timestamp'].agg([min, max]).reset_index()\n",
    "agg_time = agg_time['max'] - agg_time['min']\n",
    "\n",
    "agg_metrics.insert(2, 'total_minutes', \n",
    "                   agg_time.apply(lambda x: x.seconds / 60.0))\n",
    "\n",
    "# save data to csv file\n",
    "agg_metrics.to_csv('../data/aggregate_metrics.csv', index=False)\n",
    "agg_metrics.head()"
   ]
  },
  {
   "cell_type": "markdown",
   "metadata": {},
   "source": [
    "### Plotting mean number of steps for each session, per device"
   ]
  },
  {
   "cell_type": "code",
   "execution_count": 285,
   "metadata": {
    "collapsed": false
   },
   "outputs": [
    {
     "data": {
      "image/png": "[encoded data removed]",
      "text/plain": [
       "<matplotlib.figure.Figure at 0x11d0dd450>"
      ]
     },
     "metadata": {},
     "output_type": "display_data"
    }
   ],
   "source": [
    "plot_df = agg_metrics.pivot(\n",
    "    index='date', columns='device_number', values='steps_mean')\n",
    "# insert null index for missing data days\n",
    "plot_df.loc[date(2014, 11, 21), :] = np.nan\n",
    "plot_df.loc[date(2014, 12, 12), :] = np.nan\n",
    "plot_df.loc[date(2014, 12, 19), :] = np.nan\n",
    "plot_df.loc[date(2015, 3, 20), :] = np.nan\n",
    "plot_df.sort_index(inplace=True)\n",
    "plot_df.plot(kind='bar', subplots=True, figsize=(15,10), \n",
    "             layout=(5,2), legend=False, title='Mean Steps per Device Number');"
   ]
  },
  {
   "cell_type": "markdown",
   "metadata": {},
   "source": [
    "### Plotting mean number of calories for each session, per device"
   ]
  },
  {
   "cell_type": "code",
   "execution_count": 286,
   "metadata": {
    "collapsed": false
   },
   "outputs": [
    {
     "data": {
      "image/png": "[encoded data removed]",
      "text/plain": [
       "<matplotlib.figure.Figure at 0x11acac810>"
      ]
     },
     "metadata": {},
     "output_type": "display_data"
    }
   ],
   "source": [
    "plot_df = agg_metrics.pivot(\n",
    "    index='date', columns='device_number', values='calories_sum')\n",
    "plot_df.loc[date(2014, 11, 21), :] = np.nan\n",
    "plot_df.loc[date(2014, 12, 12), :] = np.nan\n",
    "plot_df.loc[date(2014, 12, 19), :] = np.nan\n",
    "plot_df.loc[date(2015, 3, 20), :] = np.nan\n",
    "plot_df.sort_index(inplace=True)\n",
    "plot_df.plot(kind='bar', subplots=True, figsize=(15,10), \n",
    "             layout=(5,2), legend=False, title='Mean Steps per Device Number');"
   ]
  }
 ],
 "metadata": {
  "kernelspec": {
   "display_name": "Python 2",
   "language": "python",
   "name": "python2"
  },
  "language_info": {
   "codemirror_mode": {
    "name": "ipython",
    "version": 2
   },
   "file_extension": ".py",
   "mimetype": "text/x-python",
   "name": "python",
   "nbconvert_exporter": "python",
   "pygments_lexer": "ipython2",
   "version": "2.7.11"
  }
 },
 "nbformat": 4,
 "nbformat_minor": 0
}
